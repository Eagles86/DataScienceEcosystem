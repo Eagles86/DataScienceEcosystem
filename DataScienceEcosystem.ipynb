{
 "cells": [
  {
   "cell_type": "markdown",
   "id": "8dbbb77b-5105-47ab-9b2a-f7f601b4ff80",
   "metadata": {},
   "source": [
    "# Data Science Ecosystem "
   ]
  },
  {
   "cell_type": "markdown",
   "id": "4cd31cf1-bbe9-416d-b44a-a507674a4fea",
   "metadata": {
    "tags": []
   },
   "source": [
    "## In this notebook, Data Science Tools and Ecosystem are summarized."
   ]
  },
  {
   "cell_type": "markdown",
   "id": "c453dd41-f016-41fc-8b87-b8d3533cebf3",
   "metadata": {},
   "source": [
    "### Objectives:\n",
    "\n",
    "* List popular languages that Data Scientist\n",
    "* List popular languages for Data Science\n",
    "* List commonly used libraries used by Data Scientists\n",
    "* List Data Science Tools\n",
    "* List few examples of evaluating arithmetic expressions in Python\n",
    "* simple arithmetic expression to mutiply then add integers"
   ]
  },
  {
   "cell_type": "markdown",
   "id": "03cb448f-4f45-4dff-9ef1-038fc0c310a7",
   "metadata": {
    "tags": []
   },
   "source": [
    "### Some of the popular languages that Data Scientists use are:\n",
    "               "
   ]
  },
  {
   "cell_type": "markdown",
   "id": "cbb9418d-2098-4157-96f0-407e582754c7",
   "metadata": {
    "tags": []
   },
   "source": [
    "1. Python\n",
    "2. R \n",
    "3. Julia\n",
    "4. Java"
   ]
  },
  {
   "cell_type": "markdown",
   "id": "953eae4c-2b3d-4fbe-a5ef-9ed423fd5941",
   "metadata": {
    "tags": []
   },
   "source": [
    "### Some of the commonly used libraries used by Data Scientists include:"
   ]
  },
  {
   "cell_type": "markdown",
   "id": "730c9722-8175-44b6-a919-d9345b8985a9",
   "metadata": {},
   "source": [
    "1. NumPy\n",
    "2. Pandas\n",
    "3. Matplotlib \n",
    "4. Seaborn \n",
    "5. Scikit-learn"
   ]
  },
  {
   "cell_type": "markdown",
   "id": "f2116c2f-25e7-488b-b93a-b830554fe96a",
   "metadata": {},
   "source": [
    "| Data Science Tools |\n",
    "---"
   ]
  },
  {
   "cell_type": "markdown",
   "id": "715e48da-8e1d-4255-9e68-bd57070f0630",
   "metadata": {
    "tags": []
   },
   "source": [
    "|Jupyter Notebooks|\n",
    "---\n",
    "\n",
    "|PyCharm|\n",
    "---\n"
   ]
  },
  {
   "cell_type": "markdown",
   "id": "ba9242a3-8ab6-4d03-b0f6-58677810a09b",
   "metadata": {},
   "source": [
    "### Below are a few examples of evaluating arithmetic expressions in Python"
   ]
  },
  {
   "cell_type": "markdown",
   "id": "f78889e1-35e2-45e4-a579-dddfa186e954",
   "metadata": {
    "tags": []
   },
   "source": [
    "$$a^2 + b^2 = c^2$$"
   ]
  },
  {
   "cell_type": "code",
   "execution_count": 5,
   "id": "7c43e03e-89aa-4644-a286-de14734cc706",
   "metadata": {
    "tags": []
   },
   "outputs": [
    {
     "data": {
      "text/plain": [
       "17"
      ]
     },
     "execution_count": 5,
     "metadata": {},
     "output_type": "execute_result"
    }
   ],
   "source": [
    "# This a simple arithmetic expression to mutiply then add integers\n",
    "(3*4)+5"
   ]
  },
  {
   "cell_type": "code",
   "execution_count": 8,
   "id": "f4f5b3d2-9d1f-4639-8f60-19ee063807bb",
   "metadata": {
    "tags": []
   },
   "outputs": [
    {
     "data": {
      "text/plain": [
       "3.33"
      ]
     },
     "execution_count": 8,
     "metadata": {},
     "output_type": "execute_result"
    }
   ],
   "source": [
    "#This will convert 200 minutes to hours by diving by 60\n",
    "round(200/60,2)"
   ]
  },
  {
   "cell_type": "markdown",
   "id": "eaf2fd7a-ada2-4e3d-9e3d-7e8d8171c64a",
   "metadata": {},
   "source": [
    "## Author"
   ]
  },
  {
   "cell_type": "markdown",
   "id": "c4549772-03bc-44d4-b60c-3ef9d89d5e3f",
   "metadata": {
    "tags": []
   },
   "source": [
    "Mahlatse Molotja"
   ]
  },
  {
   "cell_type": "code",
   "execution_count": null,
   "id": "0f8462d6-3b22-45ad-b445-88cb863083f3",
   "metadata": {},
   "outputs": [],
   "source": []
  }
 ],
 "metadata": {
  "kernelspec": {
   "display_name": "Python",
   "language": "python",
   "name": "conda-env-python-py"
  },
  "language_info": {
   "codemirror_mode": {
    "name": "ipython",
    "version": 3
   },
   "file_extension": ".py",
   "mimetype": "text/x-python",
   "name": "python",
   "nbconvert_exporter": "python",
   "pygments_lexer": "ipython3",
   "version": "3.7.12"
  }
 },
 "nbformat": 4,
 "nbformat_minor": 5
}
